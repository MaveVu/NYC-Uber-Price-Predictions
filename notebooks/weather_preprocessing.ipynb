{
 "cells": [
  {
   "cell_type": "code",
   "execution_count": 11,
   "metadata": {},
   "outputs": [],
   "source": [
    "import pandas as pd\n",
    "import numpy as np\n",
    "import datetime as dt"
   ]
  },
  {
   "cell_type": "code",
   "execution_count": 12,
   "metadata": {},
   "outputs": [
    {
     "data": {
      "text/plain": [
       "4392"
      ]
     },
     "execution_count": 12,
     "metadata": {},
     "output_type": "execute_result"
    }
   ],
   "source": [
    "# Number of records in the weather dataset\n",
    "\n",
    "df_l = pd.read_csv('../data/landing/weather_raw.csv')\n",
    "len(df_l)"
   ]
  },
  {
   "cell_type": "code",
   "execution_count": 15,
   "metadata": {},
   "outputs": [],
   "source": [
    "# Using lower case convention for the columns' names\n",
    "\n",
    "# Dataframe of landing data\n",
    "df_l = pd.read_csv('../data/landing/weather_raw.csv')\n",
    "lower_cols = [c.lower() for c in df_l.columns]\n",
    "new_cols = dict(zip(df_l.columns, lower_cols))\n",
    "\n",
    "# Dataframe of raw data (renamed)\n",
    "df_r = df_l.rename(columns=new_cols)\n",
    "df_l.to_csv('../data/raw/weather_renamed.csv')"
   ]
  },
  {
   "cell_type": "code",
   "execution_count": 16,
   "metadata": {},
   "outputs": [
    {
     "data": {
      "text/plain": [
       "Index(['unnamed: 0', 'station', 'date', 'source', 'latitude', 'longitude',\n",
       "       'elevation', 'name', 'report_type', 'call_sign', 'quality_control',\n",
       "       'wnd', 'cig', 'vis', 'tmp', 'dew', 'slp', 'aa1', 'ga1', 'gd1', 'gf1',\n",
       "       'ma1', 'rem'],\n",
       "      dtype='object')"
      ]
     },
     "execution_count": 16,
     "metadata": {},
     "output_type": "execute_result"
    }
   ],
   "source": [
    "# Checking the availability of the features\n",
    "\n",
    "# Calculating the percentage of missing data for each column\n",
    "missing_percentage = df_r.isna().mean() \n",
    "\n",
    "# Getting columns with less than 20% of missing values\n",
    "cols = missing_percentage[missing_percentage < 0.2].index\n",
    "df_r[cols].columns"
   ]
  },
  {
   "cell_type": "code",
   "execution_count": 17,
   "metadata": {},
   "outputs": [],
   "source": [
    "# Converting to datetime format and splitting into date and hour\n",
    "df_r['date'] = pd.to_datetime(df_r['date'])\n",
    "df_r['hour'] = df_r['date'].dt.hour"
   ]
  },
  {
   "cell_type": "code",
   "execution_count": 18,
   "metadata": {},
   "outputs": [],
   "source": [
    "df_r['date'] = df_r['date'].dt.date"
   ]
  },
  {
   "cell_type": "markdown",
   "metadata": {},
   "source": [
    "Since we want to have as many available instances as possible, we will choose from the mandatory data section of the dataset, which includes 6 weather factors. However, 'cig' and 'vis' are both highly skewed, so we do not want to add them into the model."
   ]
  },
  {
   "cell_type": "code",
   "execution_count": 19,
   "metadata": {},
   "outputs": [],
   "source": [
    "# Unscaling and converting missing value to NaN\n",
    "\n",
    "# Wind speed rate\n",
    "df_r['wnd'] = df_r['wnd'].apply(lambda x: int(x.split(',')[3])/10).replace(999.9, np.nan)\n",
    "\n",
    "# Air temperature\n",
    "df_r['tmp'] = df_r['tmp'].apply(lambda x: int(x.split(',')[0])/10).replace(999.9, np.nan)\n",
    "\n",
    "# Dew point temperature\n",
    "df_r['dew'] = df_r['dew'].apply(lambda x: int(x.split(',')[0])/10).replace(999.9, np.nan)\n",
    "\n",
    "# Sea level pressure\n",
    "df_r['slp'] = df_r['slp'].apply(lambda x: int(x.split(',')[0])/10).replace(9999.9, np.nan)\n",
    "\n",
    "# Selecting all features we are interested in\n",
    "df_r = df_r[['date', 'hour', 'wnd', 'tmp', 'dew', 'slp']]\n",
    "df_r.ffill(inplace=True)"
   ]
  },
  {
   "cell_type": "code",
   "execution_count": 20,
   "metadata": {},
   "outputs": [],
   "source": [
    "# Storing at curated folder\n",
    "df_r.to_csv('../data/curated/weather_processed.csv')"
   ]
  }
 ],
 "metadata": {
  "kernelspec": {
   "display_name": "Python 3",
   "language": "python",
   "name": "python3"
  },
  "language_info": {
   "codemirror_mode": {
    "name": "ipython",
    "version": 3
   },
   "file_extension": ".py",
   "mimetype": "text/x-python",
   "name": "python",
   "nbconvert_exporter": "python",
   "pygments_lexer": "ipython3",
   "version": "3.10.12"
  }
 },
 "nbformat": 4,
 "nbformat_minor": 2
}
