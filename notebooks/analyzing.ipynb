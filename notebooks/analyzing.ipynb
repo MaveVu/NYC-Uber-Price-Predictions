{
 "cells": [
  {
   "cell_type": "code",
   "execution_count": 1,
   "metadata": {},
   "outputs": [],
   "source": [
    "from pyspark.sql import SparkSession, functions as F\n",
    "from pyspark.ml.evaluation import RegressionEvaluator\n",
    "import pandas as pd\n",
    "import matplotlib.pyplot as plt\n"
   ]
  },
  {
   "cell_type": "code",
   "execution_count": 2,
   "metadata": {},
   "outputs": [
    {
     "name": "stderr",
     "output_type": "stream",
     "text": [
      "your 131072x1 screen size is bogus. expect trouble\n",
      "24/08/25 10:06:59 WARN Utils: Your hostname, MinhVu resolves to a loopback address: 127.0.1.1; using 10.255.255.254 instead (on interface lo)\n",
      "24/08/25 10:06:59 WARN Utils: Set SPARK_LOCAL_IP if you need to bind to another address\n",
      "Setting default log level to \"WARN\".\n",
      "To adjust logging level use sc.setLogLevel(newLevel). For SparkR, use setLogLevel(newLevel).\n",
      "24/08/25 10:07:00 WARN NativeCodeLoader: Unable to load native-hadoop library for your platform... using builtin-java classes where applicable\n"
     ]
    }
   ],
   "source": [
    "spark = (\n",
    "    SparkSession.builder.appName(\"analyzing\")\n",
    "    .config(\"spark.sql.repl.eagerEval.enabled\", True) \n",
    "    .config(\"spark.sql.parquet.cacheMetadata\", \"true\")\n",
    "    .config(\"spark.sql.session.timeZone\", \"Etc/UTC\")\n",
    "    .config(\"spark.executor.memory\", \"4g\") \\\n",
    "    .config(\"spark.driver.memory\", \"2g\") \\\n",
    "    .getOrCreate()\n",
    ")"
   ]
  },
  {
   "cell_type": "code",
   "execution_count": 3,
   "metadata": {},
   "outputs": [
    {
     "name": "stderr",
     "output_type": "stream",
     "text": [
      "                                                                                \r"
     ]
    }
   ],
   "source": [
    "df = spark.read.parquet('../data/curated/test_pred')"
   ]
  },
  {
   "cell_type": "markdown",
   "metadata": {},
   "source": [
    "#### RMSE after exponential transformation"
   ]
  },
  {
   "cell_type": "code",
   "execution_count": 39,
   "metadata": {},
   "outputs": [],
   "source": [
    "df2 = df.select('base_passenger_fare', 'trip_miles', 'pred_gbt', 'pred_lm')"
   ]
  },
  {
   "cell_type": "code",
   "execution_count": 42,
   "metadata": {},
   "outputs": [
    {
     "data": {
      "text/plain": [
       "24.76117943621387"
      ]
     },
     "execution_count": 42,
     "metadata": {},
     "output_type": "execute_result"
    }
   ],
   "source": [
    "# Mean of base_passenger_fare\n",
    "df2.agg(F.avg('base_passenger_fare')).collect()[0][0]"
   ]
  },
  {
   "cell_type": "code",
   "execution_count": 40,
   "metadata": {},
   "outputs": [],
   "source": [
    "# Take the exp\n",
    "df2 = df2.withColumn('exp_gbt', F.exp('pred_gbt'))\n",
    "df2 = df2.withColumn('exp_lm', F.exp('pred_lm'))"
   ]
  },
  {
   "cell_type": "code",
   "execution_count": 41,
   "metadata": {},
   "outputs": [
    {
     "name": "stderr",
     "output_type": "stream",
     "text": [
      "[Stage 60:============================>                            (6 + 6) / 12]\r"
     ]
    },
    {
     "name": "stdout",
     "output_type": "stream",
     "text": [
      "RMSE LR: 9.394214149680618\n",
      "RMSE GBT: 8.710120699107748\n"
     ]
    },
    {
     "name": "stderr",
     "output_type": "stream",
     "text": [
      "                                                                                \r"
     ]
    }
   ],
   "source": [
    "# RMSE after exp transformation\n",
    "evaluator_gbt = RegressionEvaluator(\n",
    "    labelCol=\"base_passenger_fare\",\n",
    "    predictionCol=\"exp_gbt\",\n",
    "    metricName=\"rmse\"\n",
    ")\n",
    "\n",
    "evaluator_lm = RegressionEvaluator(\n",
    "    labelCol=\"base_passenger_fare\",\n",
    "    predictionCol=\"exp_lm\",\n",
    "    metricName=\"rmse\"\n",
    ")\n",
    "\n",
    "# Calculate RMSE\n",
    "rmse_gbt = evaluator_gbt.evaluate(df2)\n",
    "rmse_lm = evaluator_lm.evaluate(df2)\n",
    "\n",
    "print(f'RMSE LR: {rmse_lm}')\n",
    "print(f'RMSE GBT: {rmse_gbt}')"
   ]
  },
  {
   "cell_type": "markdown",
   "metadata": {},
   "source": [
    "#### High vs Low Demand Area - avg(base_passenger_fare)"
   ]
  },
  {
   "cell_type": "code",
   "execution_count": 53,
   "metadata": {},
   "outputs": [
    {
     "name": "stderr",
     "output_type": "stream",
     "text": [
      "                                                                                \r"
     ]
    }
   ],
   "source": [
    "df3 = df.groupBy('pulocationid').agg(\n",
    "    F.mean('base_passenger_fare').alias('avg_fare'),\n",
    "    F.mean(F.exp('pred_gbt')).alias('avg_pred_fare')\n",
    "    F.count('pulocationid').alias('demand')\n",
    ").orderBy('demand', ascending=False)\n",
    "df3 = df3.toPandas()"
   ]
  },
  {
   "cell_type": "code",
   "execution_count": 59,
   "metadata": {},
   "outputs": [
    {
     "data": {
      "text/html": [
       "<div>\n",
       "<style scoped>\n",
       "    .dataframe tbody tr th:only-of-type {\n",
       "        vertical-align: middle;\n",
       "    }\n",
       "\n",
       "    .dataframe tbody tr th {\n",
       "        vertical-align: top;\n",
       "    }\n",
       "\n",
       "    .dataframe thead th {\n",
       "        text-align: right;\n",
       "    }\n",
       "</style>\n",
       "<table border=\"1\" class=\"dataframe\">\n",
       "  <thead>\n",
       "    <tr style=\"text-align: right;\">\n",
       "      <th></th>\n",
       "      <th>pulocationid</th>\n",
       "      <th>avg_fare</th>\n",
       "      <th>avg_pred_fare</th>\n",
       "      <th>demand</th>\n",
       "    </tr>\n",
       "  </thead>\n",
       "  <tbody>\n",
       "    <tr>\n",
       "      <th>0</th>\n",
       "      <td>138</td>\n",
       "      <td>49.620582</td>\n",
       "      <td>42.405130</td>\n",
       "      <td>275729</td>\n",
       "    </tr>\n",
       "    <tr>\n",
       "      <th>1</th>\n",
       "      <td>132</td>\n",
       "      <td>58.626892</td>\n",
       "      <td>53.271606</td>\n",
       "      <td>235872</td>\n",
       "    </tr>\n",
       "    <tr>\n",
       "      <th>2</th>\n",
       "      <td>61</td>\n",
       "      <td>20.349514</td>\n",
       "      <td>21.274120</td>\n",
       "      <td>189048</td>\n",
       "    </tr>\n",
       "    <tr>\n",
       "      <th>3</th>\n",
       "      <td>79</td>\n",
       "      <td>24.935632</td>\n",
       "      <td>23.154569</td>\n",
       "      <td>187460</td>\n",
       "    </tr>\n",
       "    <tr>\n",
       "      <th>4</th>\n",
       "      <td>161</td>\n",
       "      <td>33.339333</td>\n",
       "      <td>26.926597</td>\n",
       "      <td>176762</td>\n",
       "    </tr>\n",
       "  </tbody>\n",
       "</table>\n",
       "</div>"
      ],
      "text/plain": [
       "   pulocationid   avg_fare  avg_pred_fare  demand\n",
       "0           138  49.620582      42.405130  275729\n",
       "1           132  58.626892      53.271606  235872\n",
       "2            61  20.349514      21.274120  189048\n",
       "3            79  24.935632      23.154569  187460\n",
       "4           161  33.339333      26.926597  176762"
      ]
     },
     "execution_count": 59,
     "metadata": {},
     "output_type": "execute_result"
    }
   ],
   "source": [
    "df3.head(5)"
   ]
  },
  {
   "cell_type": "code",
   "execution_count": 58,
   "metadata": {},
   "outputs": [
    {
     "data": {
      "text/html": [
       "<div>\n",
       "<style scoped>\n",
       "    .dataframe tbody tr th:only-of-type {\n",
       "        vertical-align: middle;\n",
       "    }\n",
       "\n",
       "    .dataframe tbody tr th {\n",
       "        vertical-align: top;\n",
       "    }\n",
       "\n",
       "    .dataframe thead th {\n",
       "        text-align: right;\n",
       "    }\n",
       "</style>\n",
       "<table border=\"1\" class=\"dataframe\">\n",
       "  <thead>\n",
       "    <tr style=\"text-align: right;\">\n",
       "      <th></th>\n",
       "      <th>pulocationid</th>\n",
       "      <th>avg_fare</th>\n",
       "      <th>avg_pred_fare</th>\n",
       "      <th>demand</th>\n",
       "    </tr>\n",
       "  </thead>\n",
       "  <tbody>\n",
       "    <tr>\n",
       "      <th>256</th>\n",
       "      <td>110</td>\n",
       "      <td>22.896750</td>\n",
       "      <td>23.709278</td>\n",
       "      <td>40</td>\n",
       "    </tr>\n",
       "    <tr>\n",
       "      <th>257</th>\n",
       "      <td>2</td>\n",
       "      <td>29.559444</td>\n",
       "      <td>27.371754</td>\n",
       "      <td>36</td>\n",
       "    </tr>\n",
       "  </tbody>\n",
       "</table>\n",
       "</div>"
      ],
      "text/plain": [
       "     pulocationid   avg_fare  avg_pred_fare  demand\n",
       "256           110  22.896750      23.709278      40\n",
       "257             2  29.559444      27.371754      36"
      ]
     },
     "execution_count": 58,
     "metadata": {},
     "output_type": "execute_result"
    }
   ],
   "source": [
    "df3.tail(2)"
   ]
  },
  {
   "cell_type": "markdown",
   "metadata": {},
   "source": [
    "#### Surge Multiplier"
   ]
  },
  {
   "cell_type": "code",
   "execution_count": 64,
   "metadata": {},
   "outputs": [
    {
     "data": {
      "text/html": [
       "<div>\n",
       "<style scoped>\n",
       "    .dataframe tbody tr th:only-of-type {\n",
       "        vertical-align: middle;\n",
       "    }\n",
       "\n",
       "    .dataframe tbody tr th {\n",
       "        vertical-align: top;\n",
       "    }\n",
       "\n",
       "    .dataframe thead th {\n",
       "        text-align: right;\n",
       "    }\n",
       "</style>\n",
       "<table border=\"1\" class=\"dataframe\">\n",
       "  <thead>\n",
       "    <tr style=\"text-align: right;\">\n",
       "      <th></th>\n",
       "      <th>Unnamed: 0</th>\n",
       "      <th>LocationID</th>\n",
       "      <th>Borough</th>\n",
       "      <th>Zone</th>\n",
       "      <th>service_zone</th>\n",
       "    </tr>\n",
       "  </thead>\n",
       "  <tbody>\n",
       "    <tr>\n",
       "      <th>60</th>\n",
       "      <td>60</td>\n",
       "      <td>61</td>\n",
       "      <td>Brooklyn</td>\n",
       "      <td>Crown Heights North</td>\n",
       "      <td>Boro Zone</td>\n",
       "    </tr>\n",
       "  </tbody>\n",
       "</table>\n",
       "</div>"
      ],
      "text/plain": [
       "    Unnamed: 0  LocationID   Borough                 Zone service_zone\n",
       "60          60          61  Brooklyn  Crown Heights North    Boro Zone"
      ]
     },
     "execution_count": 64,
     "metadata": {},
     "output_type": "execute_result"
    }
   ],
   "source": [
    "# This has high demand + low error -> choose this to consider surge multiplier\n",
    "zones = pd.read_csv('../data/taxi_zones/zone_lookup.csv')\n",
    "zones[zones['LocationID'] == 61]"
   ]
  },
  {
   "cell_type": "markdown",
   "metadata": {},
   "source": [
    "Find the lowest-demand hour"
   ]
  },
  {
   "cell_type": "code",
   "execution_count": 27,
   "metadata": {},
   "outputs": [],
   "source": [
    "df4 = df.select('date', 'hour', 'base_passenger_fare', 'pred_gbt', 'trip_miles').filter(F.col('pulocationid') == 61)"
   ]
  },
  {
   "cell_type": "code",
   "execution_count": 28,
   "metadata": {},
   "outputs": [],
   "source": [
    "df5 = df4.groupBy('hour').agg(\n",
    "    F.count('hour').alias('demand')\n",
    ").orderBy('hour').toPandas()"
   ]
  },
  {
   "cell_type": "code",
   "execution_count": 30,
   "metadata": {},
   "outputs": [
    {
     "data": {
      "text/html": [
       "<div>\n",
       "<style scoped>\n",
       "    .dataframe tbody tr th:only-of-type {\n",
       "        vertical-align: middle;\n",
       "    }\n",
       "\n",
       "    .dataframe tbody tr th {\n",
       "        vertical-align: top;\n",
       "    }\n",
       "\n",
       "    .dataframe thead th {\n",
       "        text-align: right;\n",
       "    }\n",
       "</style>\n",
       "<table border=\"1\" class=\"dataframe\">\n",
       "  <thead>\n",
       "    <tr style=\"text-align: right;\">\n",
       "      <th></th>\n",
       "      <th>hour</th>\n",
       "      <th>demand</th>\n",
       "    </tr>\n",
       "  </thead>\n",
       "  <tbody>\n",
       "    <tr>\n",
       "      <th>3</th>\n",
       "      <td>3</td>\n",
       "      <td>2490</td>\n",
       "    </tr>\n",
       "    <tr>\n",
       "      <th>4</th>\n",
       "      <td>4</td>\n",
       "      <td>2513</td>\n",
       "    </tr>\n",
       "    <tr>\n",
       "      <th>2</th>\n",
       "      <td>2</td>\n",
       "      <td>3124</td>\n",
       "    </tr>\n",
       "    <tr>\n",
       "      <th>5</th>\n",
       "      <td>5</td>\n",
       "      <td>3217</td>\n",
       "    </tr>\n",
       "    <tr>\n",
       "      <th>1</th>\n",
       "      <td>1</td>\n",
       "      <td>4810</td>\n",
       "    </tr>\n",
       "  </tbody>\n",
       "</table>\n",
       "</div>"
      ],
      "text/plain": [
       "   hour  demand\n",
       "3     3    2490\n",
       "4     4    2513\n",
       "2     2    3124\n",
       "5     5    3217\n",
       "1     1    4810"
      ]
     },
     "execution_count": 30,
     "metadata": {},
     "output_type": "execute_result"
    }
   ],
   "source": [
    "df5.sort_values(by='demand').head(5)"
   ]
  },
  {
   "cell_type": "code",
   "execution_count": 80,
   "metadata": {},
   "outputs": [
    {
     "data": {
      "image/png": "[encoded data removed]",
      "text/plain": [
       "<Figure size 800x400 with 1 Axes>"
      ]
     },
     "metadata": {},
     "output_type": "display_data"
    }
   ],
   "source": [
    "# Plotting\n",
    "plt.figure(figsize=(8, 4))\n",
    "\n",
    "plt.plot(df5['hour'], df5['demand'], marker='o')\n",
    "plt.axvline(x=3, label='Lowest at 3', color='red')\n",
    "\n",
    "\n",
    "plt.title('Demand at each hour - May 2024')\n",
    "plt.xlabel('Hour')\n",
    "plt.ylabel('Count')\n",
    "plt.legend(loc='lower right', fontsize=12)\n",
    "plt.savefig('../plots/demand_hour.png')"
   ]
  },
  {
   "cell_type": "markdown",
   "metadata": {},
   "source": [
    "Estimating surge multiplier"
   ]
  },
  {
   "cell_type": "code",
   "execution_count": 40,
   "metadata": {},
   "outputs": [
    {
     "name": "stderr",
     "output_type": "stream",
     "text": [
      "                                                                                \r"
     ]
    },
    {
     "data": {
      "text/html": [
       "<div>\n",
       "<style scoped>\n",
       "    .dataframe tbody tr th:only-of-type {\n",
       "        vertical-align: middle;\n",
       "    }\n",
       "\n",
       "    .dataframe tbody tr th {\n",
       "        vertical-align: top;\n",
       "    }\n",
       "\n",
       "    .dataframe thead th {\n",
       "        text-align: right;\n",
       "    }\n",
       "</style>\n",
       "<table border=\"1\" class=\"dataframe\">\n",
       "  <thead>\n",
       "    <tr style=\"text-align: right;\">\n",
       "      <th></th>\n",
       "      <th>date</th>\n",
       "      <th>actual_standard_FPM</th>\n",
       "      <th>pred_standard_FPM</th>\n",
       "    </tr>\n",
       "  </thead>\n",
       "  <tbody>\n",
       "    <tr>\n",
       "      <th>0</th>\n",
       "      <td>2024-05-01</td>\n",
       "      <td>5.889283</td>\n",
       "      <td>6.503551</td>\n",
       "    </tr>\n",
       "    <tr>\n",
       "      <th>1</th>\n",
       "      <td>2024-05-02</td>\n",
       "      <td>5.643340</td>\n",
       "      <td>6.215390</td>\n",
       "    </tr>\n",
       "    <tr>\n",
       "      <th>2</th>\n",
       "      <td>2024-05-03</td>\n",
       "      <td>5.347645</td>\n",
       "      <td>6.084559</td>\n",
       "    </tr>\n",
       "    <tr>\n",
       "      <th>3</th>\n",
       "      <td>2024-05-04</td>\n",
       "      <td>5.951577</td>\n",
       "      <td>6.548302</td>\n",
       "    </tr>\n",
       "    <tr>\n",
       "      <th>4</th>\n",
       "      <td>2024-05-05</td>\n",
       "      <td>6.095225</td>\n",
       "      <td>6.733179</td>\n",
       "    </tr>\n",
       "  </tbody>\n",
       "</table>\n",
       "</div>"
      ],
      "text/plain": [
       "        date  actual_standard_FPM  pred_standard_FPM\n",
       "0 2024-05-01             5.889283           6.503551\n",
       "1 2024-05-02             5.643340           6.215390\n",
       "2 2024-05-03             5.347645           6.084559\n",
       "3 2024-05-04             5.951577           6.548302\n",
       "4 2024-05-05             6.095225           6.733179"
      ]
     },
     "execution_count": 40,
     "metadata": {},
     "output_type": "execute_result"
    }
   ],
   "source": [
    "# Dataframe for date and standard fare\n",
    "df6 = df4.filter(F.col('hour') == 3).groupBy('date').agg(\n",
    "    F.mean(F.col('base_passenger_fare')/F.col('trip_miles')).alias('actual_standard_FPM'),\n",
    "    F.mean(F.exp('pred_gbt')/F.col('trip_miles')).alias('pred_standard_FPM')\n",
    ").orderBy('date').toPandas()\n",
    "df6['date'] = pd.to_datetime(df6['date'])\n",
    "\n",
    "df6.head()"
   ]
  },
  {
   "cell_type": "code",
   "execution_count": 41,
   "metadata": {},
   "outputs": [
    {
     "name": "stderr",
     "output_type": "stream",
     "text": [
      "                                                                                \r"
     ]
    }
   ],
   "source": [
    "# Dataframe for avg fare at each hour \n",
    "df7 = df4.groupBy('date', 'hour').agg(\n",
    "    F.mean(F.col('base_passenger_fare')/F.col('trip_miles')).alias('actual_surge_avg_FPM'),\n",
    "    F.mean(F.exp('pred_gbt')/F.col('trip_miles')).alias('pred_surge_avg_FPM')\n",
    ").orderBy('date', 'hour').toPandas()\n",
    "\n",
    "df7['date'] = pd.to_datetime(df7['date'])\n",
    "\n",
    "# It has data from 2024-04-30 23pm but miss 2024-05-01 22pm so I change it\n",
    "df7.loc[0, 'date'] = '2024-05-01'\n",
    "df7.loc[0, 'hour'] = 22\n",
    "df7 = df7.sort_values(by=['date', 'hour'])"
   ]
  },
  {
   "cell_type": "code",
   "execution_count": 42,
   "metadata": {},
   "outputs": [],
   "source": [
    "df_final = pd.merge(df6, df7, on='date', how='inner')"
   ]
  },
  {
   "cell_type": "code",
   "execution_count": 43,
   "metadata": {},
   "outputs": [],
   "source": [
    "# Create surge multiplier (actual and pred) columns\n",
    "df_final['actual_multiplier'] = df_final['actual_surge_avg_FPM']/df_final['actual_standard_FPM']\n",
    "df_final['pred_multiplier'] = df_final['pred_surge_avg_FPM']/df_final['pred_standard_FPM']"
   ]
  },
  {
   "cell_type": "code",
   "execution_count": 44,
   "metadata": {},
   "outputs": [
    {
     "data": {
      "image/png": "[encoded data removed]",
      "text/plain": [
       "<Figure size 800x400 with 1 Axes>"
      ]
     },
     "metadata": {},
     "output_type": "display_data"
    }
   ],
   "source": [
    "# Plot the actual vs pred surge multiplier difference in a random day\n",
    "df_chosen = df_final[df_final['date'] == '2024-05-15']\n",
    "\n",
    "plt.figure(figsize=(8, 4))\n",
    "plt.plot(df_chosen['hour'], df_chosen['actual_multiplier'], label='actual multiplier', marker='o')\n",
    "plt.plot(df_chosen['hour'], df_chosen['pred_multiplier'], label='pred multiplier', marker='o')\n",
    "plt.axvline(x=3, label='Lowest at 3', color='red')\n",
    "\n",
    "\n",
    "plt.title('Surge Multiplier Difference - 2024-05-15')\n",
    "plt.xlabel('Hour')\n",
    "plt.ylabel('Value')\n",
    "plt.legend(fontsize=12)\n",
    "\n",
    "plt.savefig('../plots/surge_diff.png')"
   ]
  },
  {
   "cell_type": "code",
   "execution_count": 45,
   "metadata": {},
   "outputs": [
    {
     "name": "stdout",
     "output_type": "stream",
     "text": [
      "RMSE: 0.09850541319794555\n"
     ]
    }
   ],
   "source": [
    "# RMSE\n",
    "df_final = spark.createDataFrame(df_final)\n",
    "\n",
    "evaluator_surge = RegressionEvaluator(\n",
    "    labelCol=\"actual_multiplier\",\n",
    "    predictionCol=\"pred_multiplier\",\n",
    "    metricName=\"rmse\"\n",
    ")\n",
    "\n",
    "rmse_surge = evaluator_surge.evaluate(df_final)\n",
    "\n",
    "print(f'RMSE: {rmse_surge}')"
   ]
  }
 ],
 "metadata": {
  "kernelspec": {
   "display_name": ".venv",
   "language": "python",
   "name": "python3"
  },
  "language_info": {
   "codemirror_mode": {
    "name": "ipython",
    "version": 3
   },
   "file_extension": ".py",
   "mimetype": "text/x-python",
   "name": "python",
   "nbconvert_exporter": "python",
   "pygments_lexer": "ipython3",
   "version": "3.10.12"
  }
 },
 "nbformat": 4,
 "nbformat_minor": 2
}
